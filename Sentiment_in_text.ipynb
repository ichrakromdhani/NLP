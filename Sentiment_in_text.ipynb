{
  "nbformat": 4,
  "nbformat_minor": 0,
  "metadata": {
    "colab": {
      "name": "Sentiment in text.ipynb",
      "provenance": [],
      "collapsed_sections": []
    },
    "kernelspec": {
      "name": "python3",
      "display_name": "Python 3"
    }
  },
  "cells": [
    {
      "cell_type": "markdown",
      "metadata": {
        "id": "2wxbfZ5NOydI",
        "colab_type": "text"
      },
      "source": [
        "## 1) Tokenization  : "
      ]
    },
    {
      "cell_type": "markdown",
      "metadata": {
        "id": "sXrhNNqtZ0U1",
        "colab_type": "text"
      },
      "source": [
        "converting the text into numeric values"
      ]
    },
    {
      "cell_type": "code",
      "metadata": {
        "id": "qgPN4A4qMUVP",
        "colab_type": "code",
        "colab": {
          "base_uri": "https://localhost:8080/",
          "height": 51
        },
        "outputId": "d6fd2e6e-3347-4161-849d-0bd991686a70"
      },
      "source": [
        "from tensorflow.keras.preprocessing.text import Tokenizer\n",
        "from tensorflow.keras.preprocessing.sequence import pad_sequences\n",
        "\n",
        "sentences=['I love cats ',\n",
        "           'i, love dogs',\n",
        "           'i love cats and dogs !',\n",
        "           'do you think my dog is amazing ?']\n",
        "\n",
        "#num_words: number of unique words\n",
        "tokenizer= Tokenizer(num_words=100,oov_token=\"<OOV>\") \n",
        "\n",
        "#create a dictionnary with the key being the word and the value being the token for that word\n",
        "tokenizer.fit_on_texts(sentences)\n",
        "\n",
        "#list of sentences encoded \n",
        "sequences=tokenizer.texts_to_sequences(sentences)\n",
        "\n",
        "#corpus\n",
        "word_index=tokenizer.word_index\n",
        "\n",
        "print(word_index)\n",
        "print(sequences)"
      ],
      "execution_count": 8,
      "outputs": [
        {
          "output_type": "stream",
          "text": [
            "{'<OOV>': 1, 'i': 2, 'love': 3, 'cats': 4, 'dogs': 5, 'and': 6, 'do': 7, 'you': 8, 'think': 9, 'my': 10, 'dog': 11, 'is': 12, 'amazing': 13}\n",
            "[[2, 3, 4], [2, 3, 5], [2, 3, 4, 6, 5], [7, 8, 9, 10, 11, 12, 13]]\n"
          ],
          "name": "stdout"
        }
      ]
    },
    {
      "cell_type": "markdown",
      "metadata": {
        "id": "y8WI3C9FTaxz",
        "colab_type": "text"
      },
      "source": [
        "## 2) Padding : "
      ]
    },
    {
      "cell_type": "markdown",
      "metadata": {
        "id": "1wY-oG4vcDR5",
        "colab_type": "text"
      },
      "source": [
        "Ensure that the sentences has the same lenght"
      ]
    },
    {
      "cell_type": "code",
      "metadata": {
        "id": "t-pbz53JONsU",
        "colab_type": "code",
        "colab": {
          "base_uri": "https://localhost:8080/",
          "height": 289
        },
        "outputId": "1fe5078a-2856-4cbb-d497-48cd01c4542e"
      },
      "source": [
        "\n",
        "padded=pad_sequences(sequences,maxlen=8)\n",
        "print(\"\\nWord Index = \" , word_index)\n",
        "print(\"\\nSequences = \" , sequences)\n",
        "print(\"\\nPadded Sequences:\")\n",
        "print(padded)\n",
        "\n",
        "\n",
        "# Try with words that the tokenizer wasn't fit to\n",
        "test_data = [\n",
        "    'i really love my dog',\n",
        "    'my dog loves my manatee'\n",
        "]\n",
        "\n",
        "test_seq = tokenizer.texts_to_sequences(test_data)\n",
        "print(\"\\nTest Sequence = \", test_seq)\n",
        "\n",
        "padded = pad_sequences(test_seq, maxlen=10)\n",
        "print(\"\\nPadded Test Sequence: \")\n",
        "print(padded)"
      ],
      "execution_count": 10,
      "outputs": [
        {
          "output_type": "stream",
          "text": [
            "\n",
            "Word Index =  {'<OOV>': 1, 'i': 2, 'love': 3, 'cats': 4, 'dogs': 5, 'and': 6, 'do': 7, 'you': 8, 'think': 9, 'my': 10, 'dog': 11, 'is': 12, 'amazing': 13}\n",
            "\n",
            "Sequences =  [[2, 3, 4], [2, 3, 5], [2, 3, 4, 6, 5], [7, 8, 9, 10, 11, 12, 13]]\n",
            "\n",
            "Padded Sequences:\n",
            "[[ 0  0  0  0  0  2  3  4]\n",
            " [ 0  0  0  0  0  2  3  5]\n",
            " [ 0  0  0  2  3  4  6  5]\n",
            " [ 0  7  8  9 10 11 12 13]]\n",
            "\n",
            "Test Sequence =  [[2, 1, 3, 10, 11], [10, 11, 1, 10, 1]]\n",
            "\n",
            "Padded Test Sequence: \n",
            "[[ 0  0  0  0  0  2  1  3 10 11]\n",
            " [ 0  0  0  0  0 10 11  1 10  1]]\n"
          ],
          "name": "stdout"
        }
      ]
    },
    {
      "cell_type": "code",
      "metadata": {
        "id": "VMWH71z8c6lJ",
        "colab_type": "code",
        "colab": {}
      },
      "source": [
        ""
      ],
      "execution_count": 0,
      "outputs": []
    }
  ]
}